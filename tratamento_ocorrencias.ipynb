{
 "cells": [
  {
   "cell_type": "markdown",
   "id": "25a3e499",
   "metadata": {},
   "source": [
    "# Tratamento Profissional de Dados – Ocorrências e Reclamações (Limpeza, validação e otimização de dados, com relatório completo de decisões.)"
   ]
  },
  {
   "cell_type": "code",
   "execution_count": 33,
   "id": "bbbb22fe",
   "metadata": {},
   "outputs": [],
   "source": [
    "import pandas as pd\n",
    "import numpy as np\n",
    "import unicodedata\n",
    "import os"
   ]
  },
  {
   "cell_type": "code",
   "execution_count": 34,
   "id": "a51b5a44",
   "metadata": {},
   "outputs": [],
   "source": [
    "pd.set_option(\"display.max_columns\", None)"
   ]
  },
  {
   "cell_type": "code",
   "execution_count": 35,
   "id": "96ca9b3b",
   "metadata": {},
   "outputs": [],
   "source": [
    "# Função auxiliar: remover acentos\n",
    "def strip_accents(s):\n",
    "    if pd.isna(s):\n",
    "        return s\n",
    "    return ''.join(c for c in unicodedata.normalize('NFKD', str(s))\n",
    "                   if not unicodedata.combining(c))\n"
   ]
  },
  {
   "cell_type": "code",
   "execution_count": 39,
   "id": "a8646476",
   "metadata": {},
   "outputs": [],
   "source": [
    "# 1️⃣ Carregar dados\n",
    "path = \"../raw_datasets/ocorrencias_reclamacoes.csv\"\n",
    "if not os.path.exists(path):\n",
    "    raise FileNotFoundError(f\"Ficheiro não encontrado: {path}\")\n",
    "\n",
    "df = pd.read_csv(path)\n",
    "\n",
    "DECISOES = []\n",
    "def registrar_decisao(txt):\n",
    "    DECISOES.append(\"- \" + txt)\n",
    "    print(\"✔\", txt)"
   ]
  },
  {
   "cell_type": "code",
   "execution_count": null,
   "id": "27fc1201",
   "metadata": {},
   "outputs": [],
   "source": [
    "\n",
    "df_original = df.copy()    # cópia 100% fiel para referência\n",
    "df_clean = df.copy()       # cópia sobre a qual vamos trabalhar\n",
    "df = df_clean              # trabalhar sempre com df"
   ]
  },
  {
   "cell_type": "code",
   "execution_count": 53,
   "id": "965d719c",
   "metadata": {},
   "outputs": [
    {
     "name": "stdout",
     "output_type": "stream",
     "text": [
      "Ocorrencias com o mesmo ID mas em frações diferentes: 0\n"
     ]
    },
    {
     "data": {
      "text/html": [
       "<div>\n",
       "<style scoped>\n",
       "    .dataframe tbody tr th:only-of-type {\n",
       "        vertical-align: middle;\n",
       "    }\n",
       "\n",
       "    .dataframe tbody tr th {\n",
       "        vertical-align: top;\n",
       "    }\n",
       "\n",
       "    .dataframe thead th {\n",
       "        text-align: right;\n",
       "    }\n",
       "</style>\n",
       "<table border=\"1\" class=\"dataframe\">\n",
       "  <thead>\n",
       "    <tr style=\"text-align: right;\">\n",
       "      <th></th>\n",
       "      <th>ocorrencia_id</th>\n",
       "      <th>num_frações</th>\n",
       "    </tr>\n",
       "  </thead>\n",
       "  <tbody>\n",
       "  </tbody>\n",
       "</table>\n",
       "</div>"
      ],
      "text/plain": [
       "Empty DataFrame\n",
       "Columns: [ocorrencia_id, num_frações]\n",
       "Index: []"
      ]
     },
     "metadata": {},
     "output_type": "display_data"
    }
   ],
   "source": [
    "# IDs de ocorrência que aparecem mais de uma vez\n",
    "ids_repetidos = (\n",
    "    df_clean.groupby('ocorrencia_id')['fração_origem']\n",
    "    .nunique()\n",
    "    .reset_index(name='num_frações')\n",
    ")\n",
    "duplicados = ids_repetidos[ids_repetidos['num_frações'] > 1]\n",
    "print(f\"Ocorrencias com o mesmo ID mas em frações diferentes: {len(duplicados)}\")\n",
    "display(duplicados.head(20))\n"
   ]
  },
  {
   "cell_type": "code",
   "execution_count": 41,
   "id": "ecf86f9a",
   "metadata": {},
   "outputs": [
    {
     "name": "stdout",
     "output_type": "stream",
     "text": [
      "✔ Nomes de colunas corrigidos: {'    ocorrencia_id': 'ocorrencia_id'}\n"
     ]
    }
   ],
   "source": [
    "# 1. Corrigir nomes de colunas\n",
    "ren = {c: c.strip() for c in df_clean.columns if c != c.strip()}\n",
    "if ren:\n",
    "    df_clean.rename(columns=ren, inplace=True)\n",
    "    registrar_decisao(f\"Nomes de colunas corrigidos: {ren}\")"
   ]
  },
  {
   "cell_type": "code",
   "execution_count": 42,
   "id": "d614eddc",
   "metadata": {},
   "outputs": [
    {
     "name": "stdout",
     "output_type": "stream",
     "text": [
      "✔ Removidos 26 registos duplicados.\n"
     ]
    }
   ],
   "source": [
    "# 2. Duplicados\n",
    "dups = df_clean.duplicated().sum()\n",
    "if dups > 0:\n",
    "    df_clean = df_clean.drop_duplicates()\n",
    "    registrar_decisao(f\"Removidos {dups} registos duplicados.\")\n",
    "else:\n",
    "    registrar_decisao(\"Nenhum registo duplicado encontrado.\")"
   ]
  },
  {
   "cell_type": "code",
   "execution_count": 43,
   "id": "eb321046",
   "metadata": {},
   "outputs": [
    {
     "name": "stdout",
     "output_type": "stream",
     "text": [
      "\n",
      "Valores nulos (absoluto):\n",
      "ocorrencia_id          0\n",
      "fração_origem          0\n",
      "tipo                   0\n",
      "descricao_completa    28\n",
      "data_ocorrencia        0\n",
      "gravidade              0\n",
      "resolvido              0\n",
      "acao_tomada           18\n",
      "dtype: int64\n",
      "\n",
      "Valores nulos (%):\n",
      "ocorrencia_id         0.00\n",
      "fração_origem         0.00\n",
      "tipo                  0.00\n",
      "descricao_completa    2.33\n",
      "data_ocorrencia       0.00\n",
      "gravidade             0.00\n",
      "resolvido             0.00\n",
      "acao_tomada           1.50\n",
      "dtype: float64\n"
     ]
    }
   ],
   "source": [
    "# 3) Valores ausentes (relatório)\n",
    "print(\"\\nValores nulos (absoluto):\")\n",
    "print(df_clean.isna().sum())\n",
    "print(\"\\nValores nulos (%):\")\n",
    "print((df_clean.isna().sum()/len(df_clean)*100).round(2))"
   ]
  },
  {
   "cell_type": "code",
   "execution_count": 44,
   "id": "642899d5",
   "metadata": {},
   "outputs": [],
   "source": [
    "# Decisão: 'resolvido' nulo -> \"Investigar\" (não assumimos 'Não')\n",
    "if df_clean['resolvido'].isna().sum() > 0:\n",
    "    df_clean['resolvido'] = df_clean['resolvido'].fillna('Investigar')\n",
    "    registrar_decisao(\"Valores nulos em 'resolvido' preenchidos com 'Investigar' (possível erro/pendência).\")\n"
   ]
  },
  {
   "cell_type": "code",
   "execution_count": 45,
   "id": "8dd03fb6",
   "metadata": {},
   "outputs": [
    {
     "name": "stdout",
     "output_type": "stream",
     "text": [
      "✔ Padronizada a coluna 'tipo' (acentos, maiúsculas e sinónimos).\n"
     ]
    },
    {
     "name": "stderr",
     "output_type": "stream",
     "text": [
      "/var/folders/zn/76llcf_53y1gktzpnrpfpcdr0000gn/T/ipykernel_2559/1031024117.py:17: SettingWithCopyWarning: \n",
      "A value is trying to be set on a copy of a slice from a DataFrame.\n",
      "Try using .loc[row_indexer,col_indexer] = value instead\n",
      "\n",
      "See the caveats in the documentation: https://pandas.pydata.org/pandas-docs/stable/user_guide/indexing.html#returning-a-view-versus-a-copy\n",
      "  df_clean['tipo'] = tipo_norm.replace(mapeamento)\n"
     ]
    }
   ],
   "source": [
    "# 5. Padronização de formatos\n",
    "# 5a) Normalizar 'tipo' (sem criar coluna auxiliar)\n",
    "tipo_norm = (\n",
    "    df_clean['tipo'].astype(str)\n",
    "                     .str.strip()\n",
    "                     .str.lower()\n",
    "                     .apply(strip_accents)\n",
    ")\n",
    "mapeamento = {\n",
    "    'ruido': 'Ruído', 'ruido.': 'Ruído', 'barulho': 'Ruído',\n",
    "    'infiltracao': 'Infiltração', 'humidade': 'Infiltração',\n",
    "    'vandalismo': 'Vandalismo', 'vandalism': 'Vandalismo',\n",
    "    'limpeza': 'Limpeza', 'higiene': 'Limpeza',\n",
    "    'seguranca': 'Segurança',\n",
    "    'estacionamento': 'Estacionamento', 'parking': 'Estacionamento', 'garagem': 'Estacionamento'\n",
    "}\n",
    "df_clean['tipo'] = tipo_norm.replace(mapeamento)\n",
    "registrar_decisao(\"Padronizada a coluna 'tipo' (acentos, maiúsculas e sinónimos).\")\n"
   ]
  },
  {
   "cell_type": "code",
   "execution_count": 46,
   "id": "46d2da85",
   "metadata": {},
   "outputs": [
    {
     "name": "stdout",
     "output_type": "stream",
     "text": [
      "✔ Normalizada a coluna 'resolvido' (Sim/Não/Investigar).\n"
     ]
    },
    {
     "name": "stderr",
     "output_type": "stream",
     "text": [
      "/var/folders/zn/76llcf_53y1gktzpnrpfpcdr0000gn/T/ipykernel_2559/977232012.py:9: SettingWithCopyWarning: \n",
      "A value is trying to be set on a copy of a slice from a DataFrame.\n",
      "Try using .loc[row_indexer,col_indexer] = value instead\n",
      "\n",
      "See the caveats in the documentation: https://pandas.pydata.org/pandas-docs/stable/user_guide/indexing.html#returning-a-view-versus-a-copy\n",
      "  df_clean['resolvido'] = df_clean['resolvido'].apply(norm_res).astype('category')\n"
     ]
    }
   ],
   "source": [
    "# 5b) Normalizar 'resolvido' para Sim/Não/Investigar\n",
    "def norm_res(x):\n",
    "    if pd.isna(x): return \"Investigar\"\n",
    "    s = str(x).strip().lower()\n",
    "    if s in {\"sim\",\"s\",\"true\",\"1\"} or x is True: return \"Sim\"\n",
    "    if s in {\"não\",\"nao\",\"n\",\"false\",\"0\"} or x is False: return \"Não\"\n",
    "    return \"Investigar\"\n",
    "\n",
    "df_clean['resolvido'] = df_clean['resolvido'].apply(norm_res).astype('category')\n",
    "registrar_decisao(\"Normalizada a coluna 'resolvido' (Sim/Não/Investigar).\")\n"
   ]
  },
  {
   "cell_type": "code",
   "execution_count": 47,
   "id": "aeaa05af",
   "metadata": {},
   "outputs": [
    {
     "name": "stdout",
     "output_type": "stream",
     "text": [
      "✔ Normalizada a coluna 'descricao_completa' (remoção de aspas iniciais e ajuste de maiúsculas).\n"
     ]
    },
    {
     "name": "stderr",
     "output_type": "stream",
     "text": [
      "/var/folders/zn/76llcf_53y1gktzpnrpfpcdr0000gn/T/ipykernel_2559/3992850040.py:10: SettingWithCopyWarning: \n",
      "A value is trying to be set on a copy of a slice from a DataFrame.\n",
      "Try using .loc[row_indexer,col_indexer] = value instead\n",
      "\n",
      "See the caveats in the documentation: https://pandas.pydata.org/pandas-docs/stable/user_guide/indexing.html#returning-a-view-versus-a-copy\n",
      "  df_clean['descricao_completa'] = df_clean['descricao_completa'].apply(limpar_descricao)\n"
     ]
    }
   ],
   "source": [
    "# 5c) Limpar 'descricao_completa'\n",
    "def limpar_descricao(txt):\n",
    "    if pd.isna(txt): return txt\n",
    "    t = str(txt).strip().lstrip('\"\\'' )\n",
    "    letras = [c for c in t if c.isalpha()]\n",
    "    if letras and sum(c.isupper() for c in letras) / len(letras) > 0.7:\n",
    "        t = t.capitalize()\n",
    "    return t\n",
    "\n",
    "df_clean['descricao_completa'] = df_clean['descricao_completa'].apply(limpar_descricao)\n",
    "registrar_decisao(\"Normalizada a coluna 'descricao_completa' (remoção de aspas iniciais e ajuste de maiúsculas).\")\n"
   ]
  },
  {
   "cell_type": "code",
   "execution_count": 48,
   "id": "5601967f",
   "metadata": {},
   "outputs": [
    {
     "name": "stdout",
     "output_type": "stream",
     "text": [
      "✔ Padronizados valores de 'acao_tomada': 'Em analise' → 'Em análise'.\n"
     ]
    },
    {
     "name": "stderr",
     "output_type": "stream",
     "text": [
      "/var/folders/zn/76llcf_53y1gktzpnrpfpcdr0000gn/T/ipykernel_2559/3918207339.py:3: SettingWithCopyWarning: \n",
      "A value is trying to be set on a copy of a slice from a DataFrame.\n",
      "Try using .loc[row_indexer,col_indexer] = value instead\n",
      "\n",
      "See the caveats in the documentation: https://pandas.pydata.org/pandas-docs/stable/user_guide/indexing.html#returning-a-view-versus-a-copy\n",
      "  df_clean['acao_tomada'] = (\n"
     ]
    }
   ],
   "source": [
    "# 5d) Padronizar 'acao_tomada' (Em analise → Em análise)\n",
    "if 'acao_tomada' in df_clean.columns:\n",
    "    df_clean['acao_tomada'] = (\n",
    "        df_clean['acao_tomada']\n",
    "        .astype(str)\n",
    "        .str.strip()\n",
    "        .str.replace('Em analise', 'Em análise', case=False, regex=False)\n",
    "    )\n",
    "    registrar_decisao(\"Padronizados valores de 'acao_tomada': 'Em analise' → 'Em análise'.\")\n"
   ]
  },
  {
   "cell_type": "code",
   "execution_count": 49,
   "id": "c1babb1f",
   "metadata": {},
   "outputs": [
    {
     "name": "stdout",
     "output_type": "stream",
     "text": [
      "✔ Removido o horário de 'data_ocorrencia' (ficou apenas AAAA-MM-DD).\n"
     ]
    },
    {
     "name": "stderr",
     "output_type": "stream",
     "text": [
      "/var/folders/zn/76llcf_53y1gktzpnrpfpcdr0000gn/T/ipykernel_2559/323705884.py:2: SettingWithCopyWarning: \n",
      "A value is trying to be set on a copy of a slice from a DataFrame.\n",
      "Try using .loc[row_indexer,col_indexer] = value instead\n",
      "\n",
      "See the caveats in the documentation: https://pandas.pydata.org/pandas-docs/stable/user_guide/indexing.html#returning-a-view-versus-a-copy\n",
      "  df_clean['data_ocorrencia'] = pd.to_datetime(df_clean['data_ocorrencia'], errors='coerce')\n",
      "/var/folders/zn/76llcf_53y1gktzpnrpfpcdr0000gn/T/ipykernel_2559/323705884.py:11: SettingWithCopyWarning: \n",
      "A value is trying to be set on a copy of a slice from a DataFrame.\n",
      "Try using .loc[row_indexer,col_indexer] = value instead\n",
      "\n",
      "See the caveats in the documentation: https://pandas.pydata.org/pandas-docs/stable/user_guide/indexing.html#returning-a-view-versus-a-copy\n",
      "  df_clean['data_ocorrencia'] = df_clean['data_ocorrencia'].dt.strftime('%Y-%m-%d')\n",
      "/var/folders/zn/76llcf_53y1gktzpnrpfpcdr0000gn/T/ipykernel_2559/323705884.py:16: SettingWithCopyWarning: \n",
      "A value is trying to be set on a copy of a slice from a DataFrame.\n",
      "Try using .loc[row_indexer,col_indexer] = value instead\n",
      "\n",
      "See the caveats in the documentation: https://pandas.pydata.org/pandas-docs/stable/user_guide/indexing.html#returning-a-view-versus-a-copy\n",
      "  df_clean[c] = df_clean[c].astype('category')\n",
      "/var/folders/zn/76llcf_53y1gktzpnrpfpcdr0000gn/T/ipykernel_2559/323705884.py:16: SettingWithCopyWarning: \n",
      "A value is trying to be set on a copy of a slice from a DataFrame.\n",
      "Try using .loc[row_indexer,col_indexer] = value instead\n",
      "\n",
      "See the caveats in the documentation: https://pandas.pydata.org/pandas-docs/stable/user_guide/indexing.html#returning-a-view-versus-a-copy\n",
      "  df_clean[c] = df_clean[c].astype('category')\n",
      "/var/folders/zn/76llcf_53y1gktzpnrpfpcdr0000gn/T/ipykernel_2559/323705884.py:16: SettingWithCopyWarning: \n",
      "A value is trying to be set on a copy of a slice from a DataFrame.\n",
      "Try using .loc[row_indexer,col_indexer] = value instead\n",
      "\n",
      "See the caveats in the documentation: https://pandas.pydata.org/pandas-docs/stable/user_guide/indexing.html#returning-a-view-versus-a-copy\n",
      "  df_clean[c] = df_clean[c].astype('category')\n"
     ]
    }
   ],
   "source": [
    "# 6. Conversão de datas e tipos\n",
    "df_clean['data_ocorrencia'] = pd.to_datetime(df_clean['data_ocorrencia'], errors='coerce')\n",
    "\n",
    "# Corrigir datas futuras\n",
    "futuros = df_clean['data_ocorrencia'] > pd.Timestamp.now()\n",
    "if futuros.any():\n",
    "    df_clean.loc[futuros, 'data_ocorrencia'] = pd.Timestamp.now().normalize()\n",
    "    registrar_decisao(f\"{futuros.sum()} registos com data futura ajustados para hoje.\")\n",
    "\n",
    "# Remover hora\n",
    "df_clean['data_ocorrencia'] = df_clean['data_ocorrencia'].dt.strftime('%Y-%m-%d')\n",
    "registrar_decisao(\"Removido o horário de 'data_ocorrencia' (ficou apenas AAAA-MM-DD).\")\n",
    "\n",
    "# Categorização final\n",
    "for c in ['fração_origem', 'tipo', 'resolvido']:\n",
    "    df_clean[c] = df_clean[c].astype('category')\n"
   ]
  },
  {
   "cell_type": "code",
   "execution_count": 50,
   "id": "296d2aeb",
   "metadata": {},
   "outputs": [
    {
     "name": "stdout",
     "output_type": "stream",
     "text": [
      "✔ Corrigidos 16 registos de 'gravidade' fora do intervalo 1–5.\n"
     ]
    }
   ],
   "source": [
    "# 7. Outliers em gravidade\n",
    "if 'gravidade' in df_clean.columns:\n",
    "    outliers = (~df_clean['gravidade'].between(1,5)).sum()\n",
    "    if outliers:\n",
    "        df_clean.loc[df_clean['gravidade'] < 1, 'gravidade'] = 1\n",
    "        df_clean.loc[df_clean['gravidade'] > 5, 'gravidade'] = 5\n",
    "        registrar_decisao(f\"Corrigidos {outliers} registos de 'gravidade' fora do intervalo 1–5.\")\n",
    "    else:\n",
    "        registrar_decisao(\"Nenhum outlier de 'gravidade' encontrado.\")\n"
   ]
  },
  {
   "cell_type": "code",
   "execution_count": 51,
   "id": "c1972f1f",
   "metadata": {},
   "outputs": [
    {
     "name": "stdout",
     "output_type": "stream",
     "text": [
      "✔ Removidos duplicados de 'ocorrencia_id', retendo registo mais completo.\n"
     ]
    }
   ],
   "source": [
    "# 8. Eliminar duplicados por ocorrencia_id, mantendo a linha mais completa\n",
    "tmp = df_clean.copy()\n",
    "tmp['__nn'] = tmp.notna().sum(axis=1)\n",
    "tmp['__idx'] = np.arange(len(tmp))\n",
    "tmp['__data_dt'] = pd.to_datetime(tmp['data_ocorrencia'], errors='coerce')\n",
    "tmp = tmp.sort_values(['ocorrencia_id','__nn','__data_dt','__idx'])\n",
    "df_clean = tmp.drop_duplicates(subset=['ocorrencia_id'], keep='last').drop(columns=['__nn','__idx','__data_dt'])\n",
    "registrar_decisao(\"Removidos duplicados de 'ocorrencia_id', retendo registo mais completo.\")\n"
   ]
  },
  {
   "cell_type": "code",
   "execution_count": 52,
   "id": "78a1d893",
   "metadata": {},
   "outputs": [
    {
     "name": "stdout",
     "output_type": "stream",
     "text": [
      "✔ Memória reduzida de 0.67 MB para 0.54 MB.\n"
     ]
    }
   ],
   "source": [
    "# 9. Otimização de memória\n",
    "m0 = df_original.memory_usage(deep=True).sum()/1024**2\n",
    "m1 = df_clean.memory_usage(deep=True).sum()/1024**2\n",
    "registrar_decisao(f\"Memória reduzida de {m0:.2f} MB para {m1:.2f} MB.\")"
   ]
  },
  {
   "cell_type": "code",
   "execution_count": 54,
   "id": "8a37b31d",
   "metadata": {},
   "outputs": [
    {
     "name": "stdout",
     "output_type": "stream",
     "text": [
      "\n",
      "✔ Dataset limpo guardado em: ../datasets_cleaned/ocorrencias_cleaned_final.csv\n",
      "✔ Relatório de decisões salvo em: ../datasets_cleaned/ocorrencias_decisoes.md\n"
     ]
    }
   ],
   "source": [
    "# 10. Guardar resultados\n",
    "out_dir = \"../datasets_cleaned\"\n",
    "os.makedirs(out_dir, exist_ok=True)\n",
    "clean_path = os.path.join(out_dir, \"ocorrencias_cleaned_final.csv\")\n",
    "df_clean.to_csv(clean_path, index=False)\n",
    "print(f\"\\n✔ Dataset limpo guardado em: {clean_path}\")\n",
    "\n",
    "with open(os.path.join(out_dir, \"ocorrencias_decisoes.md\"), \"w\", encoding=\"utf-8\") as f:\n",
    "    f.write(\"\\n\".join(DECISOES))\n",
    "print(\"✔ Relatório de decisões salvo em: ../datasets_cleaned/ocorrencias_decisoes.md\")"
   ]
  }
 ],
 "metadata": {
  "kernelspec": {
   "display_name": "venv",
   "language": "python",
   "name": "python3"
  },
  "language_info": {
   "codemirror_mode": {
    "name": "ipython",
    "version": 3
   },
   "file_extension": ".py",
   "mimetype": "text/x-python",
   "name": "python",
   "nbconvert_exporter": "python",
   "pygments_lexer": "ipython3",
   "version": "3.13.7"
  }
 },
 "nbformat": 4,
 "nbformat_minor": 5
}
