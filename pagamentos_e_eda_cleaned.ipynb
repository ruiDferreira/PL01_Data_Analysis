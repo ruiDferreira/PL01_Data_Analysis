{
 "cells": [
  {
   "cell_type": "markdown",
   "id": "712de588",
   "metadata": {},
   "source": [
    "# PL01"
   ]
  },
  {
   "cell_type": "code",
   "execution_count": 145,
   "id": "95766ef3",
   "metadata": {},
   "outputs": [],
   "source": [
    "import pandas as pd\n",
    "import numpy as np\n",
    "import matplotlib.pyplot as plt\n"
   ]
  },
  {
   "cell_type": "code",
   "execution_count": 146,
   "id": "dc2c585a",
   "metadata": {},
   "outputs": [],
   "source": [
    "#dataset original\n",
    "df = pd.read_csv('datasets/pagamentos_quotas.csv')"
   ]
  },
  {
   "cell_type": "code",
   "execution_count": 147,
   "id": "52eaa7e2",
   "metadata": {},
   "outputs": [
    {
     "name": "stdout",
     "output_type": "stream",
     "text": [
      "<class 'pandas.core.frame.DataFrame'>\n",
      "RangeIndex: 60340 entries, 0 to 60339\n",
      "Data columns (total 9 columns):\n",
      " #   Column            Non-Null Count  Dtype  \n",
      "---  ------            --------------  -----  \n",
      " 0   pagamento_id      60340 non-null  object \n",
      " 1   fração_id         60340 non-null  object \n",
      " 2   mes_referencia    60340 non-null  object \n",
      " 3   data_vencimento   60340 non-null  object \n",
      " 4   data_pagamento    59588 non-null  object \n",
      " 5   valor_quota       60340 non-null  object \n",
      " 6   multa             59700 non-null  float64\n",
      " 7   estado            60340 non-null  object \n",
      " 8   metodo_pagamento  59016 non-null  object \n",
      "dtypes: float64(1), object(8)\n",
      "memory usage: 4.1+ MB\n"
     ]
    }
   ],
   "source": [
    "df.info()"
   ]
  },
  {
   "cell_type": "code",
   "execution_count": 148,
   "id": "153d57a0",
   "metadata": {},
   "outputs": [
    {
     "name": "stdout",
     "output_type": "stream",
     "text": [
      "<class 'pandas.core.frame.DataFrame'>\n",
      "RangeIndex: 60340 entries, 0 to 60339\n",
      "Data columns (total 9 columns):\n",
      " #   Column            Non-Null Count  Dtype  \n",
      "---  ------            --------------  -----  \n",
      " 0   pagamento_id      60340 non-null  object \n",
      " 1   fração_id         60340 non-null  object \n",
      " 2   mes_referencia    60340 non-null  object \n",
      " 3   data_vencimento   60340 non-null  object \n",
      " 4   data_pagamento    59588 non-null  object \n",
      " 5   valor_quota       60340 non-null  object \n",
      " 6   multa             59700 non-null  float64\n",
      " 7   estado            60340 non-null  object \n",
      " 8   metodo_pagamento  59016 non-null  object \n",
      "dtypes: float64(1), object(8)\n",
      "memory usage: 4.1+ MB\n"
     ]
    }
   ],
   "source": [
    "#dataset copia\n",
    "df2 = df.copy()\n",
    "df2.info()"
   ]
  },
  {
   "cell_type": "code",
   "execution_count": 149,
   "id": "b5526861",
   "metadata": {},
   "outputs": [],
   "source": [
    "#funçao para retirar espaços e caracteres nao numericos\n",
    "\n",
    "def limpeza(valor):\n",
    "    if pd.isna(valor):\n",
    "        return ('Nan')\n",
    "    valor = str(valor)\n",
    "    valor = valor.upper().replace('EURO','').replace('€','')\n",
    "    valor = valor.strip()\n",
    "    valor = ''.join(c for c in valor if c.isdigit() or c in [',','.'])\n",
    "    valor = valor.replace(',','.')\n",
    "    return float(valor)"
   ]
  },
  {
   "cell_type": "code",
   "execution_count": 150,
   "id": "a7d33d95",
   "metadata": {},
   "outputs": [
    {
     "data": {
      "text/plain": [
       "pagamento_id        string[python]\n",
       "fração_id           string[python]\n",
       "mes_referencia      string[python]\n",
       "data_vencimento     datetime64[ns]\n",
       "data_pagamento      datetime64[ns]\n",
       "valor_quota                float64\n",
       "multa                      float64\n",
       "estado              string[python]\n",
       "metodo_pagamento    string[python]\n",
       "dtype: object"
      ]
     },
     "execution_count": 150,
     "metadata": {},
     "output_type": "execute_result"
    }
   ],
   "source": [
    "#conversao de tipo de dados\n",
    "df2['valor_quota'] = df2['valor_quota'].apply(limpeza)\n",
    "df2['pagamento_id'] = df2['pagamento_id'].astype('string')\n",
    "df2['fração_id'] = df2['fração_id'].astype('string')\n",
    "df2['mes_referencia'] = df2['mes_referencia'].astype('string')\n",
    "df2['data_vencimento'] =pd.to_datetime(df['data_vencimento'],format='mixed')\n",
    "df2['data_pagamento'] =pd.to_datetime(df['data_pagamento'],errors='coerce')\n",
    "df2['valor_quota'] = df2['valor_quota'].astype('float')\n",
    "df2['estado'] = df2['estado'].astype('string')\n",
    "df2['metodo_pagamento'] = df2['metodo_pagamento'].astype('string')\n",
    "#astype\n",
    "df2.dtypes"
   ]
  },
  {
   "cell_type": "code",
   "execution_count": 167,
   "id": "f1cbda63",
   "metadata": {},
   "outputs": [],
   "source": [
    "#formaataçao de dados\n",
    "df2[\"multa\"] = df2[\"multa\"].fillna(df2['multa'].mean())\n",
    "df2[\"metodo_pagamento\"] = df2[\"metodo_pagamento\"].fillna(df2['metodo_pagamento'].mode()[0])\n",
    "df2[\"status_pagamento\"] = df2[\"data_pagamento\"].apply(lambda x: \"nao pago\" if pd.isna(x) else \"pago\")\n",
    "\n",
    "\n"
   ]
  },
  {
   "cell_type": "code",
   "execution_count": 152,
   "id": "5077273c",
   "metadata": {},
   "outputs": [
    {
     "data": {
      "text/plain": [
       "pagamento_id          0\n",
       "fração_id             0\n",
       "mes_referencia        0\n",
       "data_vencimento       0\n",
       "data_pagamento      825\n",
       "valor_quota           0\n",
       "multa                 0\n",
       "estado                0\n",
       "metodo_pagamento      0\n",
       "status_pagamento      0\n",
       "dtype: int64"
      ]
     },
     "execution_count": 152,
     "metadata": {},
     "output_type": "execute_result"
    }
   ],
   "source": [
    "#verificaçao de valores nulos no dataset\n",
    "df2.isnull().sum()"
   ]
  },
  {
   "cell_type": "code",
   "execution_count": 153,
   "id": "2d8ba0f9",
   "metadata": {},
   "outputs": [],
   "source": [
    "#eliminar duplicados\n",
    "df2 = df2.drop_duplicates()"
   ]
  },
  {
   "cell_type": "code",
   "execution_count": 154,
   "id": "d00f6530",
   "metadata": {},
   "outputs": [
    {
     "data": {
      "text/plain": [
       "pagamento_id          0\n",
       "fração_id             0\n",
       "mes_referencia        0\n",
       "data_vencimento       0\n",
       "data_pagamento      825\n",
       "valor_quota           0\n",
       "multa                 0\n",
       "estado                0\n",
       "metodo_pagamento      0\n",
       "status_pagamento      0\n",
       "dtype: int64"
      ]
     },
     "execution_count": 154,
     "metadata": {},
     "output_type": "execute_result"
    }
   ],
   "source": [
    "#verificaçao de valores nulos no dataset\n",
    "df2.isnull().sum()"
   ]
  },
  {
   "cell_type": "code",
   "execution_count": 155,
   "id": "9025df8c",
   "metadata": {},
   "outputs": [
    {
     "data": {
      "text/plain": [
       "metodo_pagamento\n",
       "transferência    29746\n",
       "mb way           20186\n",
       "cheque            5964\n",
       "numerário         2894\n",
       "mbway              429\n",
       "transf.            304\n",
       "transfer           300\n",
       "transferencia      275\n",
       "chq                 72\n",
       "cash                27\n",
       "dinheiro            27\n",
       "numerario           18\n",
       "Name: count, dtype: Int64"
      ]
     },
     "execution_count": 155,
     "metadata": {},
     "output_type": "execute_result"
    }
   ],
   "source": [
    "#formataçao dos dados da coluna metodo_pagamento\n",
    "df2['metodo_pagamento'] = df2['metodo_pagamento'].str.lower().str.strip()\n",
    "df2['metodo_pagamento'].value_counts()"
   ]
  },
  {
   "cell_type": "code",
   "execution_count": 156,
   "id": "1e248bb8",
   "metadata": {},
   "outputs": [
    {
     "data": {
      "text/plain": [
       "metodo_pagamento\n",
       "transferência    30625\n",
       "MB WAY           20615\n",
       "cheque            6036\n",
       "dinheiro          2966\n",
       "Name: count, dtype: Int64"
      ]
     },
     "execution_count": 156,
     "metadata": {},
     "output_type": "execute_result"
    }
   ],
   "source": [
    "metodos_pagamento = {\n",
    "    'cartao': 'transferência',\n",
    "    'transf.': 'transferência',\n",
    "    'transfer': 'transferência',\n",
    "    'transferencia': 'transferência',\n",
    "    'mb way': 'MB WAY',\n",
    "    'mbway': 'MB WAY',\n",
    "    'cheque': 'cheque',\n",
    "    'chq': 'cheque',\n",
    "    'dinheiro': 'dinheiro',\n",
    "    'numerário':'dinheiro',\n",
    "    'numerario':'dinheiro',\n",
    "    'cash':'dinheiro'\n",
    "}\n",
    "df2['metodo_pagamento'] = df2['metodo_pagamento'].replace(metodos_pagamento)\n",
    "df2['metodo_pagamento'].value_counts()"
   ]
  },
  {
   "cell_type": "code",
   "execution_count": 157,
   "id": "2cf58718",
   "metadata": {},
   "outputs": [
    {
     "data": {
      "text/plain": [
       "estado\n",
       "pago         44808\n",
       "em atraso    13679\n",
       "pendente       752\n",
       "paid           384\n",
       "pg             374\n",
       "atraso         128\n",
       "atrasado       117\n",
       "Name: count, dtype: Int64"
      ]
     },
     "execution_count": 157,
     "metadata": {},
     "output_type": "execute_result"
    }
   ],
   "source": [
    "#formataçao dos dados da coluna estado\n",
    "df2['estado'] = df2['estado'].str.lower().str.strip()\n",
    "df2['estado'].value_counts()"
   ]
  },
  {
   "cell_type": "code",
   "execution_count": 158,
   "id": "9337cd66",
   "metadata": {},
   "outputs": [
    {
     "data": {
      "text/plain": [
       "estado\n",
       "pago         45566\n",
       "em atraso    14676\n",
       "Name: count, dtype: Int64"
      ]
     },
     "execution_count": 158,
     "metadata": {},
     "output_type": "execute_result"
    }
   ],
   "source": [
    "metodos_pagamento = {\n",
    "    'paid': 'pago',\n",
    "    'paid': 'pago',\n",
    "    'pg': 'pago',\n",
    "    'em atraso': 'em atraso',\n",
    "    'atraso': 'em atraso',\n",
    "    'atrasado': 'em atraso',\n",
    "    'pendente': 'em atraso'\n",
    "}\n",
    "df2['estado'] = df2['estado'].replace(metodos_pagamento)\n",
    "df2['estado'].value_counts()"
   ]
  },
  {
   "cell_type": "code",
   "execution_count": 159,
   "id": "5ca7902c",
   "metadata": {},
   "outputs": [
    {
     "data": {
      "text/html": [
       "<div>\n",
       "<style scoped>\n",
       "    .dataframe tbody tr th:only-of-type {\n",
       "        vertical-align: middle;\n",
       "    }\n",
       "\n",
       "    .dataframe tbody tr th {\n",
       "        vertical-align: top;\n",
       "    }\n",
       "\n",
       "    .dataframe thead th {\n",
       "        text-align: right;\n",
       "    }\n",
       "</style>\n",
       "<table border=\"1\" class=\"dataframe\">\n",
       "  <thead>\n",
       "    <tr style=\"text-align: right;\">\n",
       "      <th></th>\n",
       "      <th>valor_quota</th>\n",
       "      <th>multa</th>\n",
       "    </tr>\n",
       "    <tr>\n",
       "      <th>metodo_pagamento</th>\n",
       "      <th></th>\n",
       "      <th></th>\n",
       "    </tr>\n",
       "  </thead>\n",
       "  <tbody>\n",
       "    <tr>\n",
       "      <th>MB WAY</th>\n",
       "      <td>3937829.21</td>\n",
       "      <td>69525.729787</td>\n",
       "    </tr>\n",
       "    <tr>\n",
       "      <th>cheque</th>\n",
       "      <td>1273560.21</td>\n",
       "      <td>21236.289934</td>\n",
       "    </tr>\n",
       "    <tr>\n",
       "      <th>dinheiro</th>\n",
       "      <td>598244.92</td>\n",
       "      <td>7695.639968</td>\n",
       "    </tr>\n",
       "    <tr>\n",
       "      <th>transferência</th>\n",
       "      <td>5858200.75</td>\n",
       "      <td>97588.329668</td>\n",
       "    </tr>\n",
       "  </tbody>\n",
       "</table>\n",
       "</div>"
      ],
      "text/plain": [
       "                  valor_quota         multa\n",
       "metodo_pagamento                           \n",
       "MB WAY             3937829.21  69525.729787\n",
       "cheque             1273560.21  21236.289934\n",
       "dinheiro            598244.92   7695.639968\n",
       "transferência      5858200.75  97588.329668"
      ]
     },
     "execution_count": 159,
     "metadata": {},
     "output_type": "execute_result"
    }
   ],
   "source": [
    "#Deteção de padrões nos dados através de agregações com .groupby();\n",
    "#Cálculo de estatísticas descritivas segmentadas por grupos relevantes\n",
    "\n",
    "#total de multas por metodo de pagamento\n",
    "df2.groupby('metodo_pagamento')[['valor_quota','multa']].sum()"
   ]
  },
  {
   "cell_type": "code",
   "execution_count": 160,
   "id": "fad1d14b",
   "metadata": {},
   "outputs": [
    {
     "data": {
      "text/html": [
       "<div>\n",
       "<style scoped>\n",
       "    .dataframe tbody tr th:only-of-type {\n",
       "        vertical-align: middle;\n",
       "    }\n",
       "\n",
       "    .dataframe tbody tr th {\n",
       "        vertical-align: top;\n",
       "    }\n",
       "\n",
       "    .dataframe thead th {\n",
       "        text-align: right;\n",
       "    }\n",
       "</style>\n",
       "<table border=\"1\" class=\"dataframe\">\n",
       "  <thead>\n",
       "    <tr style=\"text-align: right;\">\n",
       "      <th></th>\n",
       "      <th>total_pagamentos</th>\n",
       "      <th>multa_media</th>\n",
       "      <th>valor_total</th>\n",
       "    </tr>\n",
       "    <tr>\n",
       "      <th>estado</th>\n",
       "      <th></th>\n",
       "      <th></th>\n",
       "      <th></th>\n",
       "    </tr>\n",
       "  </thead>\n",
       "  <tbody>\n",
       "    <tr>\n",
       "      <th>em atraso</th>\n",
       "      <td>14676</td>\n",
       "      <td>13.254411</td>\n",
       "      <td>2846661.23</td>\n",
       "    </tr>\n",
       "    <tr>\n",
       "      <th>pago</th>\n",
       "      <td>45566</td>\n",
       "      <td>0.033451</td>\n",
       "      <td>8821173.86</td>\n",
       "    </tr>\n",
       "  </tbody>\n",
       "</table>\n",
       "</div>"
      ],
      "text/plain": [
       "           total_pagamentos  multa_media  valor_total\n",
       "estado                                               \n",
       "em atraso             14676    13.254411   2846661.23\n",
       "pago                  45566     0.033451   8821173.86"
      ]
     },
     "execution_count": 160,
     "metadata": {},
     "output_type": "execute_result"
    }
   ],
   "source": [
    "#numero de multas e a media de multas por estado\n",
    "df2.groupby('estado').agg(\n",
    "    total_pagamentos=('pagamento_id','count'),\n",
    "    multa_media=('multa','mean'),\n",
    "    valor_total=('valor_quota','sum')\n",
    ")\n"
   ]
  },
  {
   "cell_type": "code",
   "execution_count": 161,
   "id": "38b59c22",
   "metadata": {},
   "outputs": [
    {
     "data": {
      "text/plain": [
       "fração_id\n",
       "FR0001     3.413043\n",
       "FR0002     2.583333\n",
       "FR0003     9.413043\n",
       "FR0004     0.404255\n",
       "FR0005     3.479167\n",
       "            ...    \n",
       "FR2496     3.541667\n",
       "FR2497     0.916667\n",
       "FR2498    15.739130\n",
       "FR2499    19.739130\n",
       "FR2500     1.916667\n",
       "Name: dias_atraso, Length: 2500, dtype: float64"
      ]
     },
     "execution_count": 161,
     "metadata": {},
     "output_type": "execute_result"
    }
   ],
   "source": [
    "\n",
    "#dias de pagamento antes depois vencimento\n",
    "df2['dias_atraso'] = (df2['data_pagamento']-df2['data_vencimento']).dt.days\n",
    "df2.groupby('fração_id')['dias_atraso'].mean()"
   ]
  },
  {
   "cell_type": "code",
   "execution_count": 165,
   "id": "1ceaa06a",
   "metadata": {},
   "outputs": [
    {
     "name": "stdout",
     "output_type": "stream",
     "text": [
      "MEMORIA TOTAL OCUPADA PELO DATASET NAO OTIMIZADO : 28056.99KB\n"
     ]
    }
   ],
   "source": [
    "print(f'MEMORIA TOTAL OCUPADA PELO DATASET NAO OTIMIZADO : {round(df.memory_usage(deep=True).sum()/1024,2)}KB')"
   ]
  },
  {
   "cell_type": "code",
   "execution_count": null,
   "id": "b0d8c2f4",
   "metadata": {},
   "outputs": [
    {
     "name": "stdout",
     "output_type": "stream",
     "text": [
      "MEMORIA TOTAL OCUPADA PELO DATASET  OTIMIZADO : 23395.65KB\n"
     ]
    }
   ],
   "source": [
    "print(f'MEMORIA TOTAL OCUPADA PELO DATASET OTIMIZADO : {round(df2.memory_usage(deep=True).sum()/1024,2)}KB')"
   ]
  },
  {
   "cell_type": "code",
   "execution_count": 162,
   "id": "1429b5df",
   "metadata": {},
   "outputs": [],
   "source": [
    "df2.to_csv(\"datasets/pagamentos_clean.csv\")"
   ]
  }
 ],
 "metadata": {
  "kernelspec": {
   "display_name": "base",
   "language": "python",
   "name": "python3"
  },
  "language_info": {
   "codemirror_mode": {
    "name": "ipython",
    "version": 3
   },
   "file_extension": ".py",
   "mimetype": "text/x-python",
   "name": "python",
   "nbconvert_exporter": "python",
   "pygments_lexer": "ipython3",
   "version": "3.12.7"
  }
 },
 "nbformat": 4,
 "nbformat_minor": 5
}
